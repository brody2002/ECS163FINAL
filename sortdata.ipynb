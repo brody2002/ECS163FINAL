{
 "cells": [
  {
   "cell_type": "code",
   "execution_count": null,
   "metadata": {},
   "outputs": [],
   "source": []
  },
  {
   "cell_type": "code",
   "execution_count": 2,
   "metadata": {},
   "outputs": [
    {
     "ename": "",
     "evalue": "",
     "output_type": "error",
     "traceback": [
      "\u001b[1;31mThe Kernel crashed while executing code in the current cell or a previous cell. \n",
      "\u001b[1;31mPlease review the code in the cell(s) to identify a possible cause of the failure. \n",
      "\u001b[1;31mClick <a href='https://aka.ms/vscodeJupyterKernelCrash'>here</a> for more info. \n",
      "\u001b[1;31mView Jupyter <a href='command:jupyter.viewOutput'>log</a> for further details."
     ]
    }
   ],
   "source": [
    "import pandas as pd\n",
    "\n",
    "# Load the CSV file\n",
    "data = pd.read_csv('Cameras_V_Crime.csv')\n",
    "\n",
    "# Sort the data by 'Country' column in alphabetical order\n",
    "sorted_data = data.sort_values(by='Country', ascending=True)\n",
    "\n",
    "# Save the sorted data to a new CSV file\n",
    "sorted_data.to_csv('Cameras_V_Crime2.csv', index=False)"
   ]
  },
  {
   "cell_type": "markdown",
   "metadata": {},
   "source": [
    "# ECS 163 FINAL PROJECT\n",
    "\n",
    "## How to start:\n",
    "Run the project by launching a live server of index.html.\n",
    "\n",
    "Traverse forwards through the presentation by hitting any key on your keyboard.\n",
    "\n",
    "## Features:\n",
    "Make sure to hover the mouse over various pieces of information in order to make use of our group's hover effect.\n",
    "\n",
    "Some graphs may require you to scroll. The graph is visaully too large to see in full scope. \n",
    "\n",
    "\n"
   ]
  },
  {
   "cell_type": "markdown",
   "metadata": {},
   "source": []
  }
 ],
 "metadata": {
  "kernelspec": {
   "display_name": "sky",
   "language": "python",
   "name": "python3"
  },
  "language_info": {
   "codemirror_mode": {
    "name": "ipython",
    "version": 3
   },
   "file_extension": ".py",
   "mimetype": "text/x-python",
   "name": "python",
   "nbconvert_exporter": "python",
   "pygments_lexer": "ipython3",
   "version": "3.12.2"
  }
 },
 "nbformat": 4,
 "nbformat_minor": 2
}
